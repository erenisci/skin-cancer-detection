{
 "cells": [
  {
   "cell_type": "markdown",
   "metadata": {
    "id": "abU40Emiki-2"
   },
   "source": [
    "## Imports and Setup\n"
   ]
  },
  {
   "cell_type": "code",
   "execution_count": null,
   "metadata": {
    "colab": {
     "base_uri": "https://localhost:8080/"
    },
    "executionInfo": {
     "elapsed": 20929,
     "status": "ok",
     "timestamp": 1752688130781,
     "user": {
      "displayName": "Eren İşci",
      "userId": "15912157546696532599"
     },
     "user_tz": -180
    },
    "id": "15U-Z-AsYALb",
    "outputId": "f7d3893d-5514-4b76-ac6d-44192f32cb73"
   },
   "outputs": [
    {
     "name": "stdout",
     "output_type": "stream",
     "text": [
      "Mounted at /content/drive\n"
     ]
    }
   ],
   "source": [
    "from google.colab import drive\n",
    "\n",
    "drive.mount('/content/drive')"
   ]
  },
  {
   "cell_type": "code",
   "execution_count": null,
   "metadata": {},
   "outputs": [],
   "source": [
    "import gc\n",
    "import os\n",
    "\n",
    "import matplotlib.pyplot as plt\n",
    "import numpy as np\n",
    "import pandas as pd\n",
    "import seaborn as sns\n",
    "import tensorflow as tf\n",
    "from sklearn.metrics import classification_report, confusion_matrix\n",
    "from tensorflow.keras import backend as K\n",
    "from tensorflow.keras.models import load_model\n",
    "from tensorflow.keras.preprocessing.image import ImageDataGenerator"
   ]
  },
  {
   "cell_type": "code",
   "execution_count": null,
   "metadata": {
    "id": "EX1AGHpbYNCn"
   },
   "outputs": [],
   "source": [
    "!unzip -q \"/content/drive/MyDrive/Skin-Cancer-Detection/data/all_classification/all_classification.zip\" -d \"/content/all_classification\""
   ]
  },
  {
   "cell_type": "code",
   "execution_count": null,
   "metadata": {
    "id": "NsOl3OmxZM8U"
   },
   "outputs": [],
   "source": [
    "csv_path = \"/content/all_classification/all_classification.csv\"\n",
    "image_root = \"/content/all_classification/all_images\""
   ]
  },
  {
   "cell_type": "code",
   "execution_count": null,
   "metadata": {
    "colab": {
     "base_uri": "https://localhost:8080/",
     "height": 424
    },
    "executionInfo": {
     "elapsed": 228,
     "status": "ok",
     "timestamp": 1752688178322,
     "user": {
      "displayName": "Eren İşci",
      "userId": "15912157546696532599"
     },
     "user_tz": -180
    },
    "id": "FxKnMHktq_1w",
    "outputId": "30fc15d4-b6e3-45ab-c380-97a2728ee57a"
   },
   "outputs": [
    {
     "data": {
      "application/vnd.google.colaboratory.intrinsic+json": {
       "summary": "{\n  \"name\": \"df_all\",\n  \"rows\": 25287,\n  \"fields\": [\n    {\n      \"column\": \"image_name\",\n      \"properties\": {\n        \"dtype\": \"string\",\n        \"num_unique_values\": 25287,\n        \"samples\": [\n          \"ISIC_0058537\",\n          \"ISIC_0063091\",\n          \"ISIC_0070304\"\n        ],\n        \"semantic_type\": \"\",\n        \"description\": \"\"\n      }\n    },\n    {\n      \"column\": \"diagnosis\",\n      \"properties\": {\n        \"dtype\": \"category\",\n        \"num_unique_values\": 7,\n        \"samples\": [\n          \"mel\",\n          \"nv\",\n          \"vasc\"\n        ],\n        \"semantic_type\": \"\",\n        \"description\": \"\"\n      }\n    },\n    {\n      \"column\": \"benign_malignant\",\n      \"properties\": {\n        \"dtype\": \"category\",\n        \"num_unique_values\": 2,\n        \"samples\": [\n          \"benign\",\n          \"malignant\"\n        ],\n        \"semantic_type\": \"\",\n        \"description\": \"\"\n      }\n    },\n    {\n      \"column\": \"target\",\n      \"properties\": {\n        \"dtype\": \"number\",\n        \"std\": 0,\n        \"min\": 0,\n        \"max\": 1,\n        \"num_unique_values\": 2,\n        \"samples\": [\n          0,\n          1\n        ],\n        \"semantic_type\": \"\",\n        \"description\": \"\"\n      }\n    },\n    {\n      \"column\": \"path\",\n      \"properties\": {\n        \"dtype\": \"string\",\n        \"num_unique_values\": 25287,\n        \"samples\": [\n          \"/content/all_classification/all_images/ISIC_0058537.jpg\",\n          \"/content/all_classification/all_images/ISIC_0063091.jpg\"\n        ],\n        \"semantic_type\": \"\",\n        \"description\": \"\"\n      }\n    }\n  ]\n}",
       "type": "dataframe",
       "variable_name": "df_all"
      },
      "text/html": [
       "\n",
       "  <div id=\"df-b9686c78-81e1-4577-b1c1-f7025e81ca37\" class=\"colab-df-container\">\n",
       "    <div>\n",
       "<style scoped>\n",
       "    .dataframe tbody tr th:only-of-type {\n",
       "        vertical-align: middle;\n",
       "    }\n",
       "\n",
       "    .dataframe tbody tr th {\n",
       "        vertical-align: top;\n",
       "    }\n",
       "\n",
       "    .dataframe thead th {\n",
       "        text-align: right;\n",
       "    }\n",
       "</style>\n",
       "<table border=\"1\" class=\"dataframe\">\n",
       "  <thead>\n",
       "    <tr style=\"text-align: right;\">\n",
       "      <th></th>\n",
       "      <th>image_name</th>\n",
       "      <th>diagnosis</th>\n",
       "      <th>benign_malignant</th>\n",
       "      <th>target</th>\n",
       "      <th>path</th>\n",
       "    </tr>\n",
       "  </thead>\n",
       "  <tbody>\n",
       "    <tr>\n",
       "      <th>0</th>\n",
       "      <td>ISIC_0149568</td>\n",
       "      <td>mel</td>\n",
       "      <td>malignant</td>\n",
       "      <td>1</td>\n",
       "      <td>/content/all_classification/all_images/ISIC_01...</td>\n",
       "    </tr>\n",
       "    <tr>\n",
       "      <th>1</th>\n",
       "      <td>ISIC_0188432</td>\n",
       "      <td>mel</td>\n",
       "      <td>malignant</td>\n",
       "      <td>1</td>\n",
       "      <td>/content/all_classification/all_images/ISIC_01...</td>\n",
       "    </tr>\n",
       "    <tr>\n",
       "      <th>2</th>\n",
       "      <td>ISIC_0207268</td>\n",
       "      <td>mel</td>\n",
       "      <td>malignant</td>\n",
       "      <td>1</td>\n",
       "      <td>/content/all_classification/all_images/ISIC_02...</td>\n",
       "    </tr>\n",
       "    <tr>\n",
       "      <th>3</th>\n",
       "      <td>ISIC_0232101</td>\n",
       "      <td>mel</td>\n",
       "      <td>malignant</td>\n",
       "      <td>1</td>\n",
       "      <td>/content/all_classification/all_images/ISIC_02...</td>\n",
       "    </tr>\n",
       "    <tr>\n",
       "      <th>4</th>\n",
       "      <td>ISIC_0247330</td>\n",
       "      <td>mel</td>\n",
       "      <td>malignant</td>\n",
       "      <td>1</td>\n",
       "      <td>/content/all_classification/all_images/ISIC_02...</td>\n",
       "    </tr>\n",
       "    <tr>\n",
       "      <th>...</th>\n",
       "      <td>...</td>\n",
       "      <td>...</td>\n",
       "      <td>...</td>\n",
       "      <td>...</td>\n",
       "      <td>...</td>\n",
       "    </tr>\n",
       "    <tr>\n",
       "      <th>25282</th>\n",
       "      <td>ISIC_0073247</td>\n",
       "      <td>bcc</td>\n",
       "      <td>malignant</td>\n",
       "      <td>1</td>\n",
       "      <td>/content/all_classification/all_images/ISIC_00...</td>\n",
       "    </tr>\n",
       "    <tr>\n",
       "      <th>25283</th>\n",
       "      <td>ISIC_0073248</td>\n",
       "      <td>bkl</td>\n",
       "      <td>benign</td>\n",
       "      <td>0</td>\n",
       "      <td>/content/all_classification/all_images/ISIC_00...</td>\n",
       "    </tr>\n",
       "    <tr>\n",
       "      <th>25284</th>\n",
       "      <td>ISIC_0073249</td>\n",
       "      <td>mel</td>\n",
       "      <td>malignant</td>\n",
       "      <td>1</td>\n",
       "      <td>/content/all_classification/all_images/ISIC_00...</td>\n",
       "    </tr>\n",
       "    <tr>\n",
       "      <th>25285</th>\n",
       "      <td>ISIC_0073251</td>\n",
       "      <td>nv</td>\n",
       "      <td>benign</td>\n",
       "      <td>0</td>\n",
       "      <td>/content/all_classification/all_images/ISIC_00...</td>\n",
       "    </tr>\n",
       "    <tr>\n",
       "      <th>25286</th>\n",
       "      <td>ISIC_0073254</td>\n",
       "      <td>bkl</td>\n",
       "      <td>benign</td>\n",
       "      <td>0</td>\n",
       "      <td>/content/all_classification/all_images/ISIC_00...</td>\n",
       "    </tr>\n",
       "  </tbody>\n",
       "</table>\n",
       "<p>25287 rows × 5 columns</p>\n",
       "</div>\n",
       "    <div class=\"colab-df-buttons\">\n",
       "\n",
       "  <div class=\"colab-df-container\">\n",
       "    <button class=\"colab-df-convert\" onclick=\"convertToInteractive('df-b9686c78-81e1-4577-b1c1-f7025e81ca37')\"\n",
       "            title=\"Convert this dataframe to an interactive table.\"\n",
       "            style=\"display:none;\">\n",
       "\n",
       "  <svg xmlns=\"http://www.w3.org/2000/svg\" height=\"24px\" viewBox=\"0 -960 960 960\">\n",
       "    <path d=\"M120-120v-720h720v720H120Zm60-500h600v-160H180v160Zm220 220h160v-160H400v160Zm0 220h160v-160H400v160ZM180-400h160v-160H180v160Zm440 0h160v-160H620v160ZM180-180h160v-160H180v160Zm440 0h160v-160H620v160Z\"/>\n",
       "  </svg>\n",
       "    </button>\n",
       "\n",
       "  <style>\n",
       "    .colab-df-container {\n",
       "      display:flex;\n",
       "      gap: 12px;\n",
       "    }\n",
       "\n",
       "    .colab-df-convert {\n",
       "      background-color: #E8F0FE;\n",
       "      border: none;\n",
       "      border-radius: 50%;\n",
       "      cursor: pointer;\n",
       "      display: none;\n",
       "      fill: #1967D2;\n",
       "      height: 32px;\n",
       "      padding: 0 0 0 0;\n",
       "      width: 32px;\n",
       "    }\n",
       "\n",
       "    .colab-df-convert:hover {\n",
       "      background-color: #E2EBFA;\n",
       "      box-shadow: 0px 1px 2px rgba(60, 64, 67, 0.3), 0px 1px 3px 1px rgba(60, 64, 67, 0.15);\n",
       "      fill: #174EA6;\n",
       "    }\n",
       "\n",
       "    .colab-df-buttons div {\n",
       "      margin-bottom: 4px;\n",
       "    }\n",
       "\n",
       "    [theme=dark] .colab-df-convert {\n",
       "      background-color: #3B4455;\n",
       "      fill: #D2E3FC;\n",
       "    }\n",
       "\n",
       "    [theme=dark] .colab-df-convert:hover {\n",
       "      background-color: #434B5C;\n",
       "      box-shadow: 0px 1px 3px 1px rgba(0, 0, 0, 0.15);\n",
       "      filter: drop-shadow(0px 1px 2px rgba(0, 0, 0, 0.3));\n",
       "      fill: #FFFFFF;\n",
       "    }\n",
       "  </style>\n",
       "\n",
       "    <script>\n",
       "      const buttonEl =\n",
       "        document.querySelector('#df-b9686c78-81e1-4577-b1c1-f7025e81ca37 button.colab-df-convert');\n",
       "      buttonEl.style.display =\n",
       "        google.colab.kernel.accessAllowed ? 'block' : 'none';\n",
       "\n",
       "      async function convertToInteractive(key) {\n",
       "        const element = document.querySelector('#df-b9686c78-81e1-4577-b1c1-f7025e81ca37');\n",
       "        const dataTable =\n",
       "          await google.colab.kernel.invokeFunction('convertToInteractive',\n",
       "                                                    [key], {});\n",
       "        if (!dataTable) return;\n",
       "\n",
       "        const docLinkHtml = 'Like what you see? Visit the ' +\n",
       "          '<a target=\"_blank\" href=https://colab.research.google.com/notebooks/data_table.ipynb>data table notebook</a>'\n",
       "          + ' to learn more about interactive tables.';\n",
       "        element.innerHTML = '';\n",
       "        dataTable['output_type'] = 'display_data';\n",
       "        await google.colab.output.renderOutput(dataTable, element);\n",
       "        const docLink = document.createElement('div');\n",
       "        docLink.innerHTML = docLinkHtml;\n",
       "        element.appendChild(docLink);\n",
       "      }\n",
       "    </script>\n",
       "  </div>\n",
       "\n",
       "\n",
       "    <div id=\"df-cf1e7035-4169-4090-8c7b-7a271c1d7bac\">\n",
       "      <button class=\"colab-df-quickchart\" onclick=\"quickchart('df-cf1e7035-4169-4090-8c7b-7a271c1d7bac')\"\n",
       "                title=\"Suggest charts\"\n",
       "                style=\"display:none;\">\n",
       "\n",
       "<svg xmlns=\"http://www.w3.org/2000/svg\" height=\"24px\"viewBox=\"0 0 24 24\"\n",
       "     width=\"24px\">\n",
       "    <g>\n",
       "        <path d=\"M19 3H5c-1.1 0-2 .9-2 2v14c0 1.1.9 2 2 2h14c1.1 0 2-.9 2-2V5c0-1.1-.9-2-2-2zM9 17H7v-7h2v7zm4 0h-2V7h2v10zm4 0h-2v-4h2v4z\"/>\n",
       "    </g>\n",
       "</svg>\n",
       "      </button>\n",
       "\n",
       "<style>\n",
       "  .colab-df-quickchart {\n",
       "      --bg-color: #E8F0FE;\n",
       "      --fill-color: #1967D2;\n",
       "      --hover-bg-color: #E2EBFA;\n",
       "      --hover-fill-color: #174EA6;\n",
       "      --disabled-fill-color: #AAA;\n",
       "      --disabled-bg-color: #DDD;\n",
       "  }\n",
       "\n",
       "  [theme=dark] .colab-df-quickchart {\n",
       "      --bg-color: #3B4455;\n",
       "      --fill-color: #D2E3FC;\n",
       "      --hover-bg-color: #434B5C;\n",
       "      --hover-fill-color: #FFFFFF;\n",
       "      --disabled-bg-color: #3B4455;\n",
       "      --disabled-fill-color: #666;\n",
       "  }\n",
       "\n",
       "  .colab-df-quickchart {\n",
       "    background-color: var(--bg-color);\n",
       "    border: none;\n",
       "    border-radius: 50%;\n",
       "    cursor: pointer;\n",
       "    display: none;\n",
       "    fill: var(--fill-color);\n",
       "    height: 32px;\n",
       "    padding: 0;\n",
       "    width: 32px;\n",
       "  }\n",
       "\n",
       "  .colab-df-quickchart:hover {\n",
       "    background-color: var(--hover-bg-color);\n",
       "    box-shadow: 0 1px 2px rgba(60, 64, 67, 0.3), 0 1px 3px 1px rgba(60, 64, 67, 0.15);\n",
       "    fill: var(--button-hover-fill-color);\n",
       "  }\n",
       "\n",
       "  .colab-df-quickchart-complete:disabled,\n",
       "  .colab-df-quickchart-complete:disabled:hover {\n",
       "    background-color: var(--disabled-bg-color);\n",
       "    fill: var(--disabled-fill-color);\n",
       "    box-shadow: none;\n",
       "  }\n",
       "\n",
       "  .colab-df-spinner {\n",
       "    border: 2px solid var(--fill-color);\n",
       "    border-color: transparent;\n",
       "    border-bottom-color: var(--fill-color);\n",
       "    animation:\n",
       "      spin 1s steps(1) infinite;\n",
       "  }\n",
       "\n",
       "  @keyframes spin {\n",
       "    0% {\n",
       "      border-color: transparent;\n",
       "      border-bottom-color: var(--fill-color);\n",
       "      border-left-color: var(--fill-color);\n",
       "    }\n",
       "    20% {\n",
       "      border-color: transparent;\n",
       "      border-left-color: var(--fill-color);\n",
       "      border-top-color: var(--fill-color);\n",
       "    }\n",
       "    30% {\n",
       "      border-color: transparent;\n",
       "      border-left-color: var(--fill-color);\n",
       "      border-top-color: var(--fill-color);\n",
       "      border-right-color: var(--fill-color);\n",
       "    }\n",
       "    40% {\n",
       "      border-color: transparent;\n",
       "      border-right-color: var(--fill-color);\n",
       "      border-top-color: var(--fill-color);\n",
       "    }\n",
       "    60% {\n",
       "      border-color: transparent;\n",
       "      border-right-color: var(--fill-color);\n",
       "    }\n",
       "    80% {\n",
       "      border-color: transparent;\n",
       "      border-right-color: var(--fill-color);\n",
       "      border-bottom-color: var(--fill-color);\n",
       "    }\n",
       "    90% {\n",
       "      border-color: transparent;\n",
       "      border-bottom-color: var(--fill-color);\n",
       "    }\n",
       "  }\n",
       "</style>\n",
       "\n",
       "      <script>\n",
       "        async function quickchart(key) {\n",
       "          const quickchartButtonEl =\n",
       "            document.querySelector('#' + key + ' button');\n",
       "          quickchartButtonEl.disabled = true;  // To prevent multiple clicks.\n",
       "          quickchartButtonEl.classList.add('colab-df-spinner');\n",
       "          try {\n",
       "            const charts = await google.colab.kernel.invokeFunction(\n",
       "                'suggestCharts', [key], {});\n",
       "          } catch (error) {\n",
       "            console.error('Error during call to suggestCharts:', error);\n",
       "          }\n",
       "          quickchartButtonEl.classList.remove('colab-df-spinner');\n",
       "          quickchartButtonEl.classList.add('colab-df-quickchart-complete');\n",
       "        }\n",
       "        (() => {\n",
       "          let quickchartButtonEl =\n",
       "            document.querySelector('#df-cf1e7035-4169-4090-8c7b-7a271c1d7bac button');\n",
       "          quickchartButtonEl.style.display =\n",
       "            google.colab.kernel.accessAllowed ? 'block' : 'none';\n",
       "        })();\n",
       "      </script>\n",
       "    </div>\n",
       "\n",
       "  <div id=\"id_81a1a51a-248d-4b37-8ee7-4d3a22fdfd32\">\n",
       "    <style>\n",
       "      .colab-df-generate {\n",
       "        background-color: #E8F0FE;\n",
       "        border: none;\n",
       "        border-radius: 50%;\n",
       "        cursor: pointer;\n",
       "        display: none;\n",
       "        fill: #1967D2;\n",
       "        height: 32px;\n",
       "        padding: 0 0 0 0;\n",
       "        width: 32px;\n",
       "      }\n",
       "\n",
       "      .colab-df-generate:hover {\n",
       "        background-color: #E2EBFA;\n",
       "        box-shadow: 0px 1px 2px rgba(60, 64, 67, 0.3), 0px 1px 3px 1px rgba(60, 64, 67, 0.15);\n",
       "        fill: #174EA6;\n",
       "      }\n",
       "\n",
       "      [theme=dark] .colab-df-generate {\n",
       "        background-color: #3B4455;\n",
       "        fill: #D2E3FC;\n",
       "      }\n",
       "\n",
       "      [theme=dark] .colab-df-generate:hover {\n",
       "        background-color: #434B5C;\n",
       "        box-shadow: 0px 1px 3px 1px rgba(0, 0, 0, 0.15);\n",
       "        filter: drop-shadow(0px 1px 2px rgba(0, 0, 0, 0.3));\n",
       "        fill: #FFFFFF;\n",
       "      }\n",
       "    </style>\n",
       "    <button class=\"colab-df-generate\" onclick=\"generateWithVariable('df_all')\"\n",
       "            title=\"Generate code using this dataframe.\"\n",
       "            style=\"display:none;\">\n",
       "\n",
       "  <svg xmlns=\"http://www.w3.org/2000/svg\" height=\"24px\"viewBox=\"0 0 24 24\"\n",
       "       width=\"24px\">\n",
       "    <path d=\"M7,19H8.4L18.45,9,17,7.55,7,17.6ZM5,21V16.75L18.45,3.32a2,2,0,0,1,2.83,0l1.4,1.43a1.91,1.91,0,0,1,.58,1.4,1.91,1.91,0,0,1-.58,1.4L9.25,21ZM18.45,9,17,7.55Zm-12,3A5.31,5.31,0,0,0,4.9,8.1,5.31,5.31,0,0,0,1,6.5,5.31,5.31,0,0,0,4.9,4.9,5.31,5.31,0,0,0,6.5,1,5.31,5.31,0,0,0,8.1,4.9,5.31,5.31,0,0,0,12,6.5,5.46,5.46,0,0,0,6.5,12Z\"/>\n",
       "  </svg>\n",
       "    </button>\n",
       "    <script>\n",
       "      (() => {\n",
       "      const buttonEl =\n",
       "        document.querySelector('#id_81a1a51a-248d-4b37-8ee7-4d3a22fdfd32 button.colab-df-generate');\n",
       "      buttonEl.style.display =\n",
       "        google.colab.kernel.accessAllowed ? 'block' : 'none';\n",
       "\n",
       "      buttonEl.onclick = () => {\n",
       "        google.colab.notebook.generateWithVariable('df_all');\n",
       "      }\n",
       "      })();\n",
       "    </script>\n",
       "  </div>\n",
       "\n",
       "    </div>\n",
       "  </div>\n"
      ],
      "text/plain": [
       "         image_name diagnosis benign_malignant  target  \\\n",
       "0      ISIC_0149568       mel        malignant       1   \n",
       "1      ISIC_0188432       mel        malignant       1   \n",
       "2      ISIC_0207268       mel        malignant       1   \n",
       "3      ISIC_0232101       mel        malignant       1   \n",
       "4      ISIC_0247330       mel        malignant       1   \n",
       "...             ...       ...              ...     ...   \n",
       "25282  ISIC_0073247       bcc        malignant       1   \n",
       "25283  ISIC_0073248       bkl           benign       0   \n",
       "25284  ISIC_0073249       mel        malignant       1   \n",
       "25285  ISIC_0073251        nv           benign       0   \n",
       "25286  ISIC_0073254       bkl           benign       0   \n",
       "\n",
       "                                                    path  \n",
       "0      /content/all_classification/all_images/ISIC_01...  \n",
       "1      /content/all_classification/all_images/ISIC_01...  \n",
       "2      /content/all_classification/all_images/ISIC_02...  \n",
       "3      /content/all_classification/all_images/ISIC_02...  \n",
       "4      /content/all_classification/all_images/ISIC_02...  \n",
       "...                                                  ...  \n",
       "25282  /content/all_classification/all_images/ISIC_00...  \n",
       "25283  /content/all_classification/all_images/ISIC_00...  \n",
       "25284  /content/all_classification/all_images/ISIC_00...  \n",
       "25285  /content/all_classification/all_images/ISIC_00...  \n",
       "25286  /content/all_classification/all_images/ISIC_00...  \n",
       "\n",
       "[25287 rows x 5 columns]"
      ]
     },
     "execution_count": 6,
     "metadata": {},
     "output_type": "execute_result"
    }
   ],
   "source": [
    "df_all = pd.read_csv(csv_path)\n",
    "df_all['path'] = df_all['path'].apply(\n",
    "    lambda x: os.path.join(image_root, os.path.basename(x)))\n",
    "df_all"
   ]
  },
  {
   "cell_type": "markdown",
   "metadata": {
    "id": "mf54xwoh8MZ9"
   },
   "source": [
    "## Constants\n"
   ]
  },
  {
   "cell_type": "code",
   "execution_count": null,
   "metadata": {
    "id": "lsguZL02_lub"
   },
   "outputs": [],
   "source": [
    "IMG_SIZE = 224\n",
    "BATCH_SIZE = 32\n",
    "model_dir = \"/content/drive/MyDrive/Skin-Cancer-Detection/models\"\n",
    "\n",
    "\n",
    "def predict_keras(model_path, generator):\n",
    "    tf.keras.backend.clear_session()\n",
    "    model = load_model(model_path)\n",
    "    preds = model.predict(generator, verbose=0)\n",
    "    del model\n",
    "    tf.keras.backend.clear_session()\n",
    "    return preds"
   ]
  },
  {
   "cell_type": "markdown",
   "metadata": {
    "id": "brs7OLnAVb-F"
   },
   "source": [
    "## Ensemble Functions\n"
   ]
  },
  {
   "cell_type": "code",
   "execution_count": null,
   "metadata": {
    "id": "7doDO3hkzrHG"
   },
   "outputs": [],
   "source": [
    "def melanoma_ensemble(df):\n",
    "    df = df.copy()\n",
    "    df['label'] = 0\n",
    "    gen = ImageDataGenerator(rescale=1./255).flow_from_dataframe(\n",
    "        df, x_col='path', y_col='label',\n",
    "        target_size=(IMG_SIZE, IMG_SIZE), batch_size=BATCH_SIZE,\n",
    "        shuffle=False, class_mode='raw', validate_filenames=False\n",
    "    )\n",
    "    x = predict_keras(os.path.join(\n",
    "        model_dir, \"melanoma_models/xception_finetuned.keras\"), gen)\n",
    "    d = predict_keras(os.path.join(\n",
    "        model_dir, \"melanoma_models/densenet_finetuned.keras\"), gen)\n",
    "    c = predict_keras(os.path.join(\n",
    "        model_dir, \"melanoma_models/cnn_model.keras\"), gen)\n",
    "    return (0.4 * x + 0.3 * d + 0.3 * c).flatten()\n",
    "\n",
    "\n",
    "def nevus_ensemble(df):\n",
    "    df = df.copy()\n",
    "    df['label'] = 0\n",
    "    gen = ImageDataGenerator(rescale=1./255).flow_from_dataframe(\n",
    "        df, x_col='path', y_col='label',\n",
    "        target_size=(IMG_SIZE, IMG_SIZE), batch_size=BATCH_SIZE,\n",
    "        shuffle=False, class_mode='raw', validate_filenames=False\n",
    "    )\n",
    "    x = predict_keras(os.path.join(\n",
    "        model_dir, \"nevus_models/xception_finetuned.keras\"), gen)\n",
    "    d = predict_keras(os.path.join(\n",
    "        model_dir, \"nevus_models/densenet_finetuned.keras\"), gen)\n",
    "    c = predict_keras(os.path.join(\n",
    "        model_dir, \"nevus_models/cnn_finetuned.keras\"), gen)\n",
    "    return (0.35 * x + 0.55 * d + 0.1 * c).flatten()\n",
    "\n",
    "\n",
    "def binary_ensemble(df):\n",
    "    df = df.copy()\n",
    "    df['label'] = 0\n",
    "    gen = ImageDataGenerator(rescale=1./255).flow_from_dataframe(\n",
    "        df, x_col='path', y_col='label',\n",
    "        target_size=(IMG_SIZE, IMG_SIZE), batch_size=BATCH_SIZE,\n",
    "        shuffle=False, class_mode='raw', validate_filenames=False\n",
    "    )\n",
    "    x = predict_keras(os.path.join(\n",
    "        model_dir, \"binary_models/xception_finetuned.keras\"), gen)\n",
    "    d = predict_keras(os.path.join(\n",
    "        model_dir, \"binary_models/densenet_finetuned.keras\"), gen)\n",
    "    c = predict_keras(os.path.join(\n",
    "        model_dir, \"binary_models/cnn_finetuned.keras\"), gen)\n",
    "    return (0.3 * d + 0.3 * x + 0.4 * c).flatten()\n",
    "\n",
    "\n",
    "def malignant_ensemble(df):\n",
    "    valid_classes = ['akiec', 'bcc']\n",
    "    df = df[df['diagnosis'].isin(valid_classes)].copy()\n",
    "    gen = ImageDataGenerator(rescale=1./255).flow_from_dataframe(\n",
    "        df, x_col='path', y_col='diagnosis',\n",
    "        target_size=(IMG_SIZE, IMG_SIZE), batch_size=BATCH_SIZE,\n",
    "        shuffle=False, class_mode='categorical', validate_filenames=False\n",
    "    )\n",
    "    x = predict_keras(os.path.join(\n",
    "        model_dir, \"malignant_models/xception_model.keras\"), gen)\n",
    "    d = predict_keras(os.path.join(\n",
    "        model_dir, \"malignant_models/densenet_finetuned.keras\"), gen)\n",
    "    c = predict_keras(os.path.join(\n",
    "        model_dir, \"malignant_models/cnn_finetuned.keras\"), gen)\n",
    "    return np.argmax(0.2 * x + 0.4 * d + 0.4 * c, axis=1), list(gen.class_indices.keys())\n",
    "\n",
    "\n",
    "def benign_ensemble(df):\n",
    "    valid_classes = ['bkl', 'df', 'vasc']\n",
    "    df = df[df['diagnosis'].isin(valid_classes)].copy()\n",
    "    gen = ImageDataGenerator(rescale=1./255).flow_from_dataframe(\n",
    "        df, x_col='path', y_col='diagnosis',\n",
    "        target_size=(IMG_SIZE, IMG_SIZE), batch_size=BATCH_SIZE,\n",
    "        shuffle=False, class_mode='categorical', validate_filenames=False\n",
    "    )\n",
    "    x = predict_keras(os.path.join(\n",
    "        model_dir, \"benign_models/xception_finetuned.keras\"), gen)\n",
    "    d = predict_keras(os.path.join(\n",
    "        model_dir, \"benign_models/densenet_model.keras\"), gen)\n",
    "    c = predict_keras(os.path.join(\n",
    "        model_dir, \"benign_models/cnn_finetuned.keras\"), gen)\n",
    "    return np.argmax(0.2 * x + 0.6 * d + 0.2 * c, axis=1), list(gen.class_indices.keys())"
   ]
  },
  {
   "cell_type": "markdown",
   "metadata": {
    "id": "v6cHhnCTVk7v"
   },
   "source": [
    "## Pipeline\n"
   ]
  },
  {
   "cell_type": "code",
   "execution_count": null,
   "metadata": {
    "id": "jlkwI26wWUFi"
   },
   "outputs": [],
   "source": [
    "def run_classification_pipeline(df):\n",
    "    df = df.copy()\n",
    "    df['pred'] = None\n",
    "\n",
    "    # Melanoma\n",
    "    mel_scores = melanoma_ensemble(df)\n",
    "    mel_idx = mel_scores > 0.5\n",
    "    df.loc[mel_idx, 'pred'] = 'mel'\n",
    "    print(f\"Melanoma classified: {mel_idx.sum()}\")\n",
    "\n",
    "    # Nevus\n",
    "    df_nevus = df[df['pred'].isna()].copy()\n",
    "    nevus_scores = nevus_ensemble(df_nevus)\n",
    "    nevus_idx = nevus_scores < 0.5\n",
    "    df.loc[df_nevus.index[nevus_idx], 'pred'] = 'nv'\n",
    "    print(f\"Nevus classified: {nevus_idx.sum()}\")\n",
    "\n",
    "    # Binary Classification\n",
    "    df_bin = df[df['pred'].isna()].copy()\n",
    "    binary_scores = binary_ensemble(df_bin)\n",
    "    mal_idx = binary_scores > 0.5\n",
    "    ben_idx = ~mal_idx\n",
    "    df.loc[df_bin.index[mal_idx], 'pred'] = 'malignant'\n",
    "    df.loc[df_bin.index[ben_idx], 'pred'] = 'benign'\n",
    "    print(f\"Malignant: {mal_idx.sum()}, Benign: {ben_idx.sum()}\")\n",
    "\n",
    "    # Malignant Subtypes\n",
    "    df_mal = df[(df['pred'] == 'malignant') & (\n",
    "        df['diagnosis'].isin(['akiec', 'bcc']))].copy()\n",
    "    if not df_mal.empty:\n",
    "        mal_preds, mal_labels = malignant_ensemble(\n",
    "            df_mal.reset_index(drop=True))\n",
    "        final_labels = [mal_labels[p] for p in mal_preds]\n",
    "        df.loc[df_mal.index, 'pred'] = final_labels\n",
    "        print(\n",
    "            f\"Malignant subtype breakdown: {dict(pd.Series(final_labels).value_counts())}\")\n",
    "\n",
    "    # Benign Subtypes\n",
    "    df_ben = df[(df['pred'] == 'benign') & (\n",
    "        df['diagnosis'].isin(['bkl', 'df', 'vasc']))].copy()\n",
    "    if not df_ben.empty:\n",
    "        ben_preds, ben_labels = benign_ensemble(df_ben.reset_index(drop=True))\n",
    "        final_labels = [ben_labels[p] for p in ben_preds]\n",
    "        df.loc[df_ben.index, 'pred'] = final_labels\n",
    "        print(\n",
    "            f\"Benign subtype breakdown: {dict(pd.Series(final_labels).value_counts())}\")\n",
    "\n",
    "    return df"
   ]
  },
  {
   "cell_type": "code",
   "execution_count": null,
   "metadata": {
    "colab": {
     "base_uri": "https://localhost:8080/"
    },
    "executionInfo": {
     "elapsed": 868700,
     "status": "ok",
     "timestamp": 1752689047357,
     "user": {
      "displayName": "Eren İşci",
      "userId": "15912157546696532599"
     },
     "user_tz": -180
    },
    "id": "nbJPa5rRVKjI",
    "outputId": "91fb500e-ec5a-4457-c52c-79ea3c560415"
   },
   "outputs": [
    {
     "name": "stdout",
     "output_type": "stream",
     "text": [
      "Found 25287 non-validated image filenames.\n"
     ]
    },
    {
     "name": "stderr",
     "output_type": "stream",
     "text": [
      "/usr/local/lib/python3.11/dist-packages/keras/src/trainers/data_adapters/py_dataset_adapter.py:121: UserWarning: Your `PyDataset` class should call `super().__init__(**kwargs)` in its constructor. `**kwargs` can include `workers`, `use_multiprocessing`, `max_queue_size`. Do not pass these arguments to `fit()`, as they will be ignored.\n",
      "  self._warn_if_super_not_called()\n"
     ]
    },
    {
     "name": "stdout",
     "output_type": "stream",
     "text": [
      "Melanoma classified: 7477\n",
      "Found 17810 non-validated image filenames.\n"
     ]
    },
    {
     "name": "stderr",
     "output_type": "stream",
     "text": [
      "/usr/local/lib/python3.11/dist-packages/keras/src/trainers/data_adapters/py_dataset_adapter.py:121: UserWarning: Your `PyDataset` class should call `super().__init__(**kwargs)` in its constructor. `**kwargs` can include `workers`, `use_multiprocessing`, `max_queue_size`. Do not pass these arguments to `fit()`, as they will be ignored.\n",
      "  self._warn_if_super_not_called()\n"
     ]
    },
    {
     "name": "stdout",
     "output_type": "stream",
     "text": [
      "Nevus classified: 11028\n",
      "Found 6782 non-validated image filenames.\n"
     ]
    },
    {
     "name": "stderr",
     "output_type": "stream",
     "text": [
      "/usr/local/lib/python3.11/dist-packages/keras/src/trainers/data_adapters/py_dataset_adapter.py:121: UserWarning: Your `PyDataset` class should call `super().__init__(**kwargs)` in its constructor. `**kwargs` can include `workers`, `use_multiprocessing`, `max_queue_size`. Do not pass these arguments to `fit()`, as they will be ignored.\n",
      "  self._warn_if_super_not_called()\n"
     ]
    },
    {
     "name": "stdout",
     "output_type": "stream",
     "text": [
      "Malignant: 3870, Benign: 2912\n",
      "Found 3342 non-validated image filenames belonging to 2 classes.\n"
     ]
    },
    {
     "name": "stderr",
     "output_type": "stream",
     "text": [
      "/usr/local/lib/python3.11/dist-packages/keras/src/trainers/data_adapters/py_dataset_adapter.py:121: UserWarning: Your `PyDataset` class should call `super().__init__(**kwargs)` in its constructor. `**kwargs` can include `workers`, `use_multiprocessing`, `max_queue_size`. Do not pass these arguments to `fit()`, as they will be ignored.\n",
      "  self._warn_if_super_not_called()\n"
     ]
    },
    {
     "name": "stdout",
     "output_type": "stream",
     "text": [
      "Malignant subtype breakdown: {'bcc': np.int64(2233), 'akiec': np.int64(1109)}\n",
      "Found 2024 non-validated image filenames belonging to 3 classes.\n"
     ]
    },
    {
     "name": "stderr",
     "output_type": "stream",
     "text": [
      "/usr/local/lib/python3.11/dist-packages/keras/src/trainers/data_adapters/py_dataset_adapter.py:121: UserWarning: Your `PyDataset` class should call `super().__init__(**kwargs)` in its constructor. `**kwargs` can include `workers`, `use_multiprocessing`, `max_queue_size`. Do not pass these arguments to `fit()`, as they will be ignored.\n",
      "  self._warn_if_super_not_called()\n"
     ]
    },
    {
     "name": "stdout",
     "output_type": "stream",
     "text": [
      "Benign subtype breakdown: {'bkl': np.int64(1405), 'df': np.int64(362), 'vasc': np.int64(257)}\n"
     ]
    }
   ],
   "source": [
    "df_all = run_classification_pipeline(df_all)"
   ]
  },
  {
   "cell_type": "markdown",
   "metadata": {
    "id": "10QNJjPUokNh"
   },
   "source": [
    "## Evaluation\n"
   ]
  },
  {
   "cell_type": "code",
   "execution_count": null,
   "metadata": {
    "id": "elHwFRn0SrTs"
   },
   "outputs": [],
   "source": [
    "true_labels = df_all['diagnosis']\n",
    "pred_labels = df_all['pred']"
   ]
  },
  {
   "cell_type": "code",
   "execution_count": null,
   "metadata": {
    "colab": {
     "base_uri": "https://localhost:8080/"
    },
    "executionInfo": {
     "elapsed": 696,
     "status": "ok",
     "timestamp": 1752689860081,
     "user": {
      "displayName": "Eren İşci",
      "userId": "15912157546696532599"
     },
     "user_tz": -180
    },
    "id": "dtj-7UGu8Ryf",
    "outputId": "14b0c38d-e5a2-4172-ee81-7779f0b13c9a"
   },
   "outputs": [
    {
     "name": "stdout",
     "output_type": "stream",
     "text": [
      "\n",
      "Classification Report:\n",
      "              precision    recall  f1-score   support\n",
      "\n",
      "       akiec       0.47      0.60      0.53       867\n",
      "         bcc       0.97      0.65      0.78      3323\n",
      "         bkl       0.99      0.53      0.69      2624\n",
      "          df       0.43      0.65      0.52       239\n",
      "         mel       0.61      0.89      0.72      5106\n",
      "          nv       0.95      0.81      0.88     12875\n",
      "        vasc       0.81      0.82      0.82       253\n",
      "\n",
      "   micro avg       0.82      0.77      0.79     25287\n",
      "   macro avg       0.75      0.71      0.70     25287\n",
      "weighted avg       0.87      0.77      0.80     25287\n",
      "\n"
     ]
    }
   ],
   "source": [
    "unique_labels = np.unique(true_labels)\n",
    "\n",
    "print(\"\\nClassification Report:\")\n",
    "print(classification_report(true_labels, pred_labels, labels=unique_labels))"
   ]
  },
  {
   "cell_type": "code",
   "execution_count": null,
   "metadata": {
    "colab": {
     "base_uri": "https://localhost:8080/",
     "height": 719
    },
    "executionInfo": {
     "elapsed": 2049,
     "status": "ok",
     "timestamp": 1752689892919,
     "user": {
      "displayName": "Eren İşci",
      "userId": "15912157546696532599"
     },
     "user_tz": -180
    },
    "id": "631Ke4o78QsX",
    "outputId": "5588e073-487a-460d-938f-41b21b892007"
   },
   "outputs": [
    {
     "data": {
      "image/png": "[encoded data removed]",
      "text/plain": [
       "<Figure size 1000x800 with 2 Axes>"
      ]
     },
     "metadata": {},
     "output_type": "display_data"
    }
   ],
   "source": [
    "cm = confusion_matrix(true_labels, pred_labels, labels=unique_labels)\n",
    "\n",
    "plt.figure(figsize=(10, 8))\n",
    "sns.heatmap(cm, annot=True, fmt='d', cmap='Blues',\n",
    "            xticklabels=unique_labels, yticklabels=unique_labels, linewidths=0.5)\n",
    "\n",
    "plt.xlabel(\"Predicted label\")\n",
    "plt.ylabel(\"True label\")\n",
    "plt.title(\"Confusion Matrix\")\n",
    "plt.xticks(rotation=45)\n",
    "plt.tight_layout()\n",
    "plt.show()"
   ]
  }
 ],
 "metadata": {
  "accelerator": "GPU",
  "colab": {
   "authorship_tag": "ABX9TyNXPkzrMqUZjnK+T6+Joysa",
   "gpuType": "T4",
   "provenance": []
  },
  "kernelspec": {
   "display_name": "Python 3",
   "name": "python3"
  },
  "language_info": {
   "name": "python"
  }
 },
 "nbformat": 4,
 "nbformat_minor": 0
}
